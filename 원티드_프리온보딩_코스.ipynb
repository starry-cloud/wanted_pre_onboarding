{
  "nbformat": 4,
  "nbformat_minor": 0,
  "metadata": {
    "colab": {
      "name": "원티드 프리온보딩 코스.ipynb",
      "provenance": [],
      "collapsed_sections": [],
      "authorship_tag": "ABX9TyOjIVxfQl4NjGIVGfCygD5Y"
    },
    "kernelspec": {
      "name": "python3",
      "display_name": "Python 3"
    },
    "language_info": {
      "name": "python"
    }
  },
  "cells": [
    {
      "cell_type": "markdown",
      "source": [
        "## 문제 1) Tokenizer 생성하기"
      ],
      "metadata": {
        "id": "GLKq2TIWjQi-"
      }
    },
    {
      "cell_type": "code",
      "source": [
        "import re"
      ],
      "metadata": {
        "id": "fya9jPkaa2sW"
      },
      "execution_count": 1,
      "outputs": []
    },
    {
      "cell_type": "code",
      "execution_count": 2,
      "metadata": {
        "id": "w8pT6tdXjDmR"
      },
      "outputs": [],
      "source": [
        "class Tokenizer():\n",
        "    def __init__(self):\n",
        "        self.word_dict = {'oov': 0}\n",
        "        self.fit_checker = False   \n",
        "  \n",
        "    def preprocessing(self, sequences):\n",
        "        result = []\n",
        "        '''\n",
        "        문제 1-1.\n",
        "        '''\n",
        "        for sent in sequences:          \n",
        "            prep_sent = re.sub(r\"[^a-zA-Z0-9 ]\", \"\", sent)\n",
        "            result.append(prep_sent.lower().split())\n",
        "\n",
        "        return result\n",
        "    \n",
        "    def fit(self, sequences):\n",
        "        self.fit_checker = False\n",
        "        '''\n",
        "        문제 1-2.\n",
        "        '''\n",
        "        tokens = self.preprocessing(sequences)\n",
        "        \n",
        "        for token in tokens:\n",
        "            for word in token:\n",
        "                if word not in self.word_dict:\n",
        "                    self.word_dict[word] = len(self.word_dict)\n",
        "                    \n",
        "\n",
        "        self.fit_checker = True\n",
        "    \n",
        "    def transform(self, sequences):\n",
        "        result = []\n",
        "        tokens = self.preprocessing(sequences)\n",
        "        if self.fit_checker:\n",
        "            '''\n",
        "            문제 1-3.\n",
        "            '''  \n",
        "            for token in tokens:\n",
        "                transformed = []\n",
        "\n",
        "                for word in token:\n",
        "                    if word in self.word_dict:\n",
        "                        transformed.append(self.word_dict[word])             \n",
        "                    else:\n",
        "                        transformed.append(self.word_dict[\"oov\"])\n",
        "                \n",
        "                result.append(transformed)\n",
        "\n",
        "            return result\n",
        "        else:\n",
        "            raise Exception(\"Tokenizer instance is not fitted yet.\")\n",
        "        \n",
        "    def fit_transform(self, sequences):\n",
        "        self.fit(sequences)\n",
        "        result = self.transform(sequences)\n",
        "        return result"
      ]
    },
    {
      "cell_type": "code",
      "source": [
        "docs1 = ['I go to school.', 'I LIKE pizza!']\n",
        "docs2 = [\"She will go to home home home\", \"He will also go to school home\"]"
      ],
      "metadata": {
        "id": "VxKHkuF2vIlA"
      },
      "execution_count": 3,
      "outputs": []
    },
    {
      "cell_type": "code",
      "source": [
        "token = Tokenizer()"
      ],
      "metadata": {
        "id": "2S_hJdnj3hq-"
      },
      "execution_count": 4,
      "outputs": []
    },
    {
      "cell_type": "code",
      "source": [
        "token.transform(docs1) # fit 함수를 실행시키지 않아 에러 발생"
      ],
      "metadata": {
        "colab": {
          "base_uri": "https://localhost:8080/",
          "height": 300
        },
        "id": "MmxEGaW7c5-h",
        "outputId": "400cf640-b192-4750-c98d-a5398860ad1d"
      },
      "execution_count": 5,
      "outputs": [
        {
          "output_type": "error",
          "ename": "Exception",
          "evalue": "ignored",
          "traceback": [
            "\u001b[0;31m---------------------------------------------------------------------------\u001b[0m",
            "\u001b[0;31mException\u001b[0m                                 Traceback (most recent call last)",
            "\u001b[0;32m<ipython-input-5-b0058332497f>\u001b[0m in \u001b[0;36m<module>\u001b[0;34m()\u001b[0m\n\u001b[0;32m----> 1\u001b[0;31m \u001b[0mtoken\u001b[0m\u001b[0;34m.\u001b[0m\u001b[0mtransform\u001b[0m\u001b[0;34m(\u001b[0m\u001b[0mdocs1\u001b[0m\u001b[0;34m)\u001b[0m\u001b[0;34m\u001b[0m\u001b[0;34m\u001b[0m\u001b[0m\n\u001b[0m",
            "\u001b[0;32m<ipython-input-2-649d090fa74d>\u001b[0m in \u001b[0;36mtransform\u001b[0;34m(self, sequences)\u001b[0m\n\u001b[1;32m     50\u001b[0m             \u001b[0;32mreturn\u001b[0m \u001b[0mresult\u001b[0m\u001b[0;34m\u001b[0m\u001b[0;34m\u001b[0m\u001b[0m\n\u001b[1;32m     51\u001b[0m         \u001b[0;32melse\u001b[0m\u001b[0;34m:\u001b[0m\u001b[0;34m\u001b[0m\u001b[0;34m\u001b[0m\u001b[0m\n\u001b[0;32m---> 52\u001b[0;31m             \u001b[0;32mraise\u001b[0m \u001b[0mException\u001b[0m\u001b[0;34m(\u001b[0m\u001b[0;34m\"Tokenizer instance is not fitted yet.\"\u001b[0m\u001b[0;34m)\u001b[0m\u001b[0;34m\u001b[0m\u001b[0;34m\u001b[0m\u001b[0m\n\u001b[0m\u001b[1;32m     53\u001b[0m \u001b[0;34m\u001b[0m\u001b[0m\n\u001b[1;32m     54\u001b[0m     \u001b[0;32mdef\u001b[0m \u001b[0mfit_transform\u001b[0m\u001b[0;34m(\u001b[0m\u001b[0mself\u001b[0m\u001b[0;34m,\u001b[0m \u001b[0msequences\u001b[0m\u001b[0;34m)\u001b[0m\u001b[0;34m:\u001b[0m\u001b[0;34m\u001b[0m\u001b[0;34m\u001b[0m\u001b[0m\n",
            "\u001b[0;31mException\u001b[0m: Tokenizer instance is not fitted yet."
          ]
        }
      ]
    },
    {
      "cell_type": "code",
      "source": [
        "token.fit(docs1)"
      ],
      "metadata": {
        "id": "mTi2fxaRt1ap"
      },
      "execution_count": 6,
      "outputs": []
    },
    {
      "cell_type": "code",
      "source": [
        "token.word_dict"
      ],
      "metadata": {
        "colab": {
          "base_uri": "https://localhost:8080/"
        },
        "id": "lTirynGjyWqg",
        "outputId": "c5544352-fb75-40bd-bb51-785b2cd3da86"
      },
      "execution_count": 7,
      "outputs": [
        {
          "output_type": "execute_result",
          "data": {
            "text/plain": [
              "{'go': 2, 'i': 1, 'like': 5, 'oov': 0, 'pizza': 6, 'school': 4, 'to': 3}"
            ]
          },
          "metadata": {},
          "execution_count": 7
        }
      ]
    },
    {
      "cell_type": "code",
      "source": [
        "token.transform(docs1)"
      ],
      "metadata": {
        "colab": {
          "base_uri": "https://localhost:8080/"
        },
        "id": "epdM7lwbVmbV",
        "outputId": "898a0842-27eb-45e9-957d-e3925deab67c"
      },
      "execution_count": 8,
      "outputs": [
        {
          "output_type": "execute_result",
          "data": {
            "text/plain": [
              "[[1, 2, 3, 4], [1, 5, 6]]"
            ]
          },
          "metadata": {},
          "execution_count": 8
        }
      ]
    },
    {
      "cell_type": "code",
      "source": [
        "token.transform(docs2)"
      ],
      "metadata": {
        "colab": {
          "base_uri": "https://localhost:8080/"
        },
        "id": "atULF_33bISh",
        "outputId": "7476fc24-815a-4d19-ce43-a298480b05e5"
      },
      "execution_count": 9,
      "outputs": [
        {
          "output_type": "execute_result",
          "data": {
            "text/plain": [
              "[[0, 0, 2, 3, 0, 0, 0], [0, 0, 0, 2, 3, 4, 0]]"
            ]
          },
          "metadata": {},
          "execution_count": 9
        }
      ]
    },
    {
      "cell_type": "code",
      "source": [
        "token.fit_transform(docs2)"
      ],
      "metadata": {
        "colab": {
          "base_uri": "https://localhost:8080/"
        },
        "id": "tYzQ6UuDe_cH",
        "outputId": "2b7ec782-c9c0-4141-d20d-af94d066994d"
      },
      "execution_count": 10,
      "outputs": [
        {
          "output_type": "execute_result",
          "data": {
            "text/plain": [
              "[[7, 8, 2, 3, 9, 9, 9], [10, 8, 11, 2, 3, 4, 9]]"
            ]
          },
          "metadata": {},
          "execution_count": 10
        }
      ]
    },
    {
      "cell_type": "code",
      "source": [
        "token.word_dict"
      ],
      "metadata": {
        "colab": {
          "base_uri": "https://localhost:8080/"
        },
        "id": "2BgdOxPjbQB3",
        "outputId": "650509b5-6f06-4721-d45b-4be8d47d8539"
      },
      "execution_count": 11,
      "outputs": [
        {
          "output_type": "execute_result",
          "data": {
            "text/plain": [
              "{'also': 11,\n",
              " 'go': 2,\n",
              " 'he': 10,\n",
              " 'home': 9,\n",
              " 'i': 1,\n",
              " 'like': 5,\n",
              " 'oov': 0,\n",
              " 'pizza': 6,\n",
              " 'school': 4,\n",
              " 'she': 7,\n",
              " 'to': 3,\n",
              " 'will': 8}"
            ]
          },
          "metadata": {},
          "execution_count": 11
        }
      ]
    },
    {
      "cell_type": "markdown",
      "source": [
        "## 문제 2) TfidfVectorizer 생성하기"
      ],
      "metadata": {
        "id": "vPOa6JYnjYmQ"
      }
    },
    {
      "cell_type": "code",
      "source": [
        "from math import log"
      ],
      "metadata": {
        "id": "RBe8t7RFY8Bl"
      },
      "execution_count": 12,
      "outputs": []
    },
    {
      "cell_type": "code",
      "source": [
        "class TfidfVectorizer:\n",
        "    def __init__(self, tokenizer):\n",
        "        self.tokenizer = tokenizer\n",
        "        self.fit_checker = False\n",
        "    \n",
        "    def fit(self, sequences):\n",
        "        tokenized = self.tokenizer.fit_transform(sequences)\n",
        "        '''\n",
        "        문제 2-1.\n",
        "        '''\n",
        "        self.idf = []\n",
        "        \n",
        "        self.vocab = list(set(token for token in self.tokenizer.word_dict.values() if token != 0)) # \"oov\"에 해당하는 토큰은 제외\n",
        "        self.vocab.sort()\n",
        "\n",
        "        N = len(tokenized) # 입력된 전체 문장 개수\n",
        "\n",
        "        for t in self.vocab:\n",
        "            df = 0 # 단어 t가 포함된 문장 d의 개수\n",
        "            for doc in tokenized:\n",
        "                df += t in doc\n",
        "            self.idf.append(log(N/(df+1)))\n",
        " \n",
        "        self.fit_checker = True\n",
        "        \n",
        "\n",
        "    def transform(self, sequences):\n",
        "        if self.fit_checker:\n",
        "            tokenized = self.tokenizer.transform(sequences)\n",
        "            '''\n",
        "            문제 2-2.\n",
        "            '''\n",
        "            self.tfidf_matrix = []\n",
        "\n",
        "            for doc in tokenized:\n",
        "                self.tfidf_matrix.append([])\n",
        "                for idx in range(len(self.vocab)):\n",
        "                    t = self.vocab[idx]\n",
        "                    tf = doc.count(t) # 문장 doc에 단어 t가 등장한 횟수\n",
        "  \n",
        "                    self.tfidf_matrix[-1].append(tf * self.idf[idx])\n",
        "                \n",
        "            return self.tfidf_matrix\n",
        "        else:\n",
        "            raise Exception(\"TfidfVectorizer instance is not fitted yet.\")\n",
        "\n",
        "    \n",
        "    def fit_transform(self, sequences):\n",
        "        self.fit(sequences)\n",
        "        return self.transform(sequences)"
      ],
      "metadata": {
        "id": "5j_ANYgGjbYi"
      },
      "execution_count": 13,
      "outputs": []
    },
    {
      "cell_type": "code",
      "source": [
        "docs1 = ['I go to school.', 'I LIKE pizza!']\n",
        "docs2 = [\"She will go to home home home\", \"He will also go to school home\"]"
      ],
      "metadata": {
        "id": "73wsH-WqdOde"
      },
      "execution_count": 14,
      "outputs": []
    },
    {
      "cell_type": "code",
      "source": [
        "new_token = Tokenizer()"
      ],
      "metadata": {
        "id": "o9yTAJ5Ge5p8"
      },
      "execution_count": 15,
      "outputs": []
    },
    {
      "cell_type": "code",
      "source": [
        "tfidf = TfidfVectorizer(new_token)"
      ],
      "metadata": {
        "id": "SA2FGaSze7-S"
      },
      "execution_count": 16,
      "outputs": []
    },
    {
      "cell_type": "code",
      "source": [
        "tfidf.transform(docs1) # fit 함수를 실행시키지 않아 에러 발생"
      ],
      "metadata": {
        "colab": {
          "base_uri": "https://localhost:8080/",
          "height": 300
        },
        "id": "s3gYk4-2c9jD",
        "outputId": "b58541e0-ed0f-4501-c3f5-ae1e07b3727a"
      },
      "execution_count": 17,
      "outputs": [
        {
          "output_type": "error",
          "ename": "Exception",
          "evalue": "ignored",
          "traceback": [
            "\u001b[0;31m---------------------------------------------------------------------------\u001b[0m",
            "\u001b[0;31mException\u001b[0m                                 Traceback (most recent call last)",
            "\u001b[0;32m<ipython-input-17-e36a48a08d12>\u001b[0m in \u001b[0;36m<module>\u001b[0;34m()\u001b[0m\n\u001b[0;32m----> 1\u001b[0;31m \u001b[0mtfidf\u001b[0m\u001b[0;34m.\u001b[0m\u001b[0mtransform\u001b[0m\u001b[0;34m(\u001b[0m\u001b[0mdocs1\u001b[0m\u001b[0;34m)\u001b[0m\u001b[0;34m\u001b[0m\u001b[0;34m\u001b[0m\u001b[0m\n\u001b[0m",
            "\u001b[0;32m<ipython-input-13-dc0b70005ef8>\u001b[0m in \u001b[0;36mtransform\u001b[0;34m(self, sequences)\u001b[0m\n\u001b[1;32m     43\u001b[0m             \u001b[0;32mreturn\u001b[0m \u001b[0mself\u001b[0m\u001b[0;34m.\u001b[0m\u001b[0mtfidf_matrix\u001b[0m\u001b[0;34m\u001b[0m\u001b[0;34m\u001b[0m\u001b[0m\n\u001b[1;32m     44\u001b[0m         \u001b[0;32melse\u001b[0m\u001b[0;34m:\u001b[0m\u001b[0;34m\u001b[0m\u001b[0;34m\u001b[0m\u001b[0m\n\u001b[0;32m---> 45\u001b[0;31m             \u001b[0;32mraise\u001b[0m \u001b[0mException\u001b[0m\u001b[0;34m(\u001b[0m\u001b[0;34m\"TfidfVectorizer instance is not fitted yet.\"\u001b[0m\u001b[0;34m)\u001b[0m\u001b[0;34m\u001b[0m\u001b[0;34m\u001b[0m\u001b[0m\n\u001b[0m\u001b[1;32m     46\u001b[0m \u001b[0;34m\u001b[0m\u001b[0m\n\u001b[1;32m     47\u001b[0m \u001b[0;34m\u001b[0m\u001b[0m\n",
            "\u001b[0;31mException\u001b[0m: TfidfVectorizer instance is not fitted yet."
          ]
        }
      ]
    },
    {
      "cell_type": "code",
      "source": [
        "tfidf.fit(docs1)"
      ],
      "metadata": {
        "id": "kgx4u9ntAO5N"
      },
      "execution_count": 18,
      "outputs": []
    },
    {
      "cell_type": "code",
      "source": [
        "tfidf.transform(docs1)"
      ],
      "metadata": {
        "colab": {
          "base_uri": "https://localhost:8080/"
        },
        "id": "HHpfhkk2ARAp",
        "outputId": "909a10ed-3451-4b58-bcd9-34ac90878575"
      },
      "execution_count": 19,
      "outputs": [
        {
          "output_type": "execute_result",
          "data": {
            "text/plain": [
              "[[-0.40546510810816444, 0.0, 0.0, 0.0, 0.0, 0.0],\n",
              " [-0.40546510810816444, 0.0, 0.0, 0.0, 0.0, 0.0]]"
            ]
          },
          "metadata": {},
          "execution_count": 19
        }
      ]
    },
    {
      "cell_type": "code",
      "source": [
        "tfidf.idf"
      ],
      "metadata": {
        "colab": {
          "base_uri": "https://localhost:8080/"
        },
        "id": "ASmKeirPdXIG",
        "outputId": "a0f937d5-3a8b-4199-efb8-ad4ca64fe6be"
      },
      "execution_count": 20,
      "outputs": [
        {
          "output_type": "execute_result",
          "data": {
            "text/plain": [
              "[-0.40546510810816444, 0.0, 0.0, 0.0, 0.0, 0.0]"
            ]
          },
          "metadata": {},
          "execution_count": 20
        }
      ]
    },
    {
      "cell_type": "code",
      "source": [
        "tfidf.transform(docs2)"
      ],
      "metadata": {
        "colab": {
          "base_uri": "https://localhost:8080/"
        },
        "id": "dCJxbJCPT_du",
        "outputId": "37ea300e-585b-4f84-9888-6e1da437d820"
      },
      "execution_count": 21,
      "outputs": [
        {
          "output_type": "execute_result",
          "data": {
            "text/plain": [
              "[[-0.0, 0.0, 0.0, 0.0, 0.0, 0.0], [-0.0, 0.0, 0.0, 0.0, 0.0, 0.0]]"
            ]
          },
          "metadata": {},
          "execution_count": 21
        }
      ]
    },
    {
      "cell_type": "code",
      "source": [
        "data = tfidf.fit_transform(docs2)\n",
        "columns = [c for c in new_token.word_dict.keys() if c != \"oov\"]"
      ],
      "metadata": {
        "id": "tKpB0WLXfSJI"
      },
      "execution_count": 22,
      "outputs": []
    },
    {
      "cell_type": "code",
      "source": [
        "import pandas as pd\n",
        "pd.DataFrame(data, columns=columns, index=docs2)"
      ],
      "metadata": {
        "colab": {
          "base_uri": "https://localhost:8080/",
          "height": 112
        },
        "id": "XRZpHNKtO6Ju",
        "outputId": "55eadd3e-a2cf-47e7-b70e-3981f544264b"
      },
      "execution_count": 23,
      "outputs": [
        {
          "output_type": "execute_result",
          "data": {
            "text/plain": [
              "                                  i        go        to  school  like  pizza  \\\n",
              "She will go to home home home   0.0 -0.405465 -0.405465     0.0   0.0    0.0   \n",
              "He will also go to school home  0.0 -0.405465 -0.405465     0.0   0.0    0.0   \n",
              "\n",
              "                                she      will      home   he  also  \n",
              "She will go to home home home   0.0 -0.405465 -1.216395  0.0   0.0  \n",
              "He will also go to school home  0.0 -0.405465 -0.405465  0.0   0.0  "
            ],
            "text/html": [
              "\n",
              "  <div id=\"df-3bf480ef-e6f8-4202-a7b7-0dddb80f08bf\">\n",
              "    <div class=\"colab-df-container\">\n",
              "      <div>\n",
              "<style scoped>\n",
              "    .dataframe tbody tr th:only-of-type {\n",
              "        vertical-align: middle;\n",
              "    }\n",
              "\n",
              "    .dataframe tbody tr th {\n",
              "        vertical-align: top;\n",
              "    }\n",
              "\n",
              "    .dataframe thead th {\n",
              "        text-align: right;\n",
              "    }\n",
              "</style>\n",
              "<table border=\"1\" class=\"dataframe\">\n",
              "  <thead>\n",
              "    <tr style=\"text-align: right;\">\n",
              "      <th></th>\n",
              "      <th>i</th>\n",
              "      <th>go</th>\n",
              "      <th>to</th>\n",
              "      <th>school</th>\n",
              "      <th>like</th>\n",
              "      <th>pizza</th>\n",
              "      <th>she</th>\n",
              "      <th>will</th>\n",
              "      <th>home</th>\n",
              "      <th>he</th>\n",
              "      <th>also</th>\n",
              "    </tr>\n",
              "  </thead>\n",
              "  <tbody>\n",
              "    <tr>\n",
              "      <th>She will go to home home home</th>\n",
              "      <td>0.0</td>\n",
              "      <td>-0.405465</td>\n",
              "      <td>-0.405465</td>\n",
              "      <td>0.0</td>\n",
              "      <td>0.0</td>\n",
              "      <td>0.0</td>\n",
              "      <td>0.0</td>\n",
              "      <td>-0.405465</td>\n",
              "      <td>-1.216395</td>\n",
              "      <td>0.0</td>\n",
              "      <td>0.0</td>\n",
              "    </tr>\n",
              "    <tr>\n",
              "      <th>He will also go to school home</th>\n",
              "      <td>0.0</td>\n",
              "      <td>-0.405465</td>\n",
              "      <td>-0.405465</td>\n",
              "      <td>0.0</td>\n",
              "      <td>0.0</td>\n",
              "      <td>0.0</td>\n",
              "      <td>0.0</td>\n",
              "      <td>-0.405465</td>\n",
              "      <td>-0.405465</td>\n",
              "      <td>0.0</td>\n",
              "      <td>0.0</td>\n",
              "    </tr>\n",
              "  </tbody>\n",
              "</table>\n",
              "</div>\n",
              "      <button class=\"colab-df-convert\" onclick=\"convertToInteractive('df-3bf480ef-e6f8-4202-a7b7-0dddb80f08bf')\"\n",
              "              title=\"Convert this dataframe to an interactive table.\"\n",
              "              style=\"display:none;\">\n",
              "        \n",
              "  <svg xmlns=\"http://www.w3.org/2000/svg\" height=\"24px\"viewBox=\"0 0 24 24\"\n",
              "       width=\"24px\">\n",
              "    <path d=\"M0 0h24v24H0V0z\" fill=\"none\"/>\n",
              "    <path d=\"M18.56 5.44l.94 2.06.94-2.06 2.06-.94-2.06-.94-.94-2.06-.94 2.06-2.06.94zm-11 1L8.5 8.5l.94-2.06 2.06-.94-2.06-.94L8.5 2.5l-.94 2.06-2.06.94zm10 10l.94 2.06.94-2.06 2.06-.94-2.06-.94-.94-2.06-.94 2.06-2.06.94z\"/><path d=\"M17.41 7.96l-1.37-1.37c-.4-.4-.92-.59-1.43-.59-.52 0-1.04.2-1.43.59L10.3 9.45l-7.72 7.72c-.78.78-.78 2.05 0 2.83L4 21.41c.39.39.9.59 1.41.59.51 0 1.02-.2 1.41-.59l7.78-7.78 2.81-2.81c.8-.78.8-2.07 0-2.86zM5.41 20L4 18.59l7.72-7.72 1.47 1.35L5.41 20z\"/>\n",
              "  </svg>\n",
              "      </button>\n",
              "      \n",
              "  <style>\n",
              "    .colab-df-container {\n",
              "      display:flex;\n",
              "      flex-wrap:wrap;\n",
              "      gap: 12px;\n",
              "    }\n",
              "\n",
              "    .colab-df-convert {\n",
              "      background-color: #E8F0FE;\n",
              "      border: none;\n",
              "      border-radius: 50%;\n",
              "      cursor: pointer;\n",
              "      display: none;\n",
              "      fill: #1967D2;\n",
              "      height: 32px;\n",
              "      padding: 0 0 0 0;\n",
              "      width: 32px;\n",
              "    }\n",
              "\n",
              "    .colab-df-convert:hover {\n",
              "      background-color: #E2EBFA;\n",
              "      box-shadow: 0px 1px 2px rgba(60, 64, 67, 0.3), 0px 1px 3px 1px rgba(60, 64, 67, 0.15);\n",
              "      fill: #174EA6;\n",
              "    }\n",
              "\n",
              "    [theme=dark] .colab-df-convert {\n",
              "      background-color: #3B4455;\n",
              "      fill: #D2E3FC;\n",
              "    }\n",
              "\n",
              "    [theme=dark] .colab-df-convert:hover {\n",
              "      background-color: #434B5C;\n",
              "      box-shadow: 0px 1px 3px 1px rgba(0, 0, 0, 0.15);\n",
              "      filter: drop-shadow(0px 1px 2px rgba(0, 0, 0, 0.3));\n",
              "      fill: #FFFFFF;\n",
              "    }\n",
              "  </style>\n",
              "\n",
              "      <script>\n",
              "        const buttonEl =\n",
              "          document.querySelector('#df-3bf480ef-e6f8-4202-a7b7-0dddb80f08bf button.colab-df-convert');\n",
              "        buttonEl.style.display =\n",
              "          google.colab.kernel.accessAllowed ? 'block' : 'none';\n",
              "\n",
              "        async function convertToInteractive(key) {\n",
              "          const element = document.querySelector('#df-3bf480ef-e6f8-4202-a7b7-0dddb80f08bf');\n",
              "          const dataTable =\n",
              "            await google.colab.kernel.invokeFunction('convertToInteractive',\n",
              "                                                     [key], {});\n",
              "          if (!dataTable) return;\n",
              "\n",
              "          const docLinkHtml = 'Like what you see? Visit the ' +\n",
              "            '<a target=\"_blank\" href=https://colab.research.google.com/notebooks/data_table.ipynb>data table notebook</a>'\n",
              "            + ' to learn more about interactive tables.';\n",
              "          element.innerHTML = '';\n",
              "          dataTable['output_type'] = 'display_data';\n",
              "          await google.colab.output.renderOutput(dataTable, element);\n",
              "          const docLink = document.createElement('div');\n",
              "          docLink.innerHTML = docLinkHtml;\n",
              "          element.appendChild(docLink);\n",
              "        }\n",
              "      </script>\n",
              "    </div>\n",
              "  </div>\n",
              "  "
            ]
          },
          "metadata": {},
          "execution_count": 23
        }
      ]
    }
  ]
}